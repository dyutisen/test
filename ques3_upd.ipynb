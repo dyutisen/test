{
 "cells": [
  {
   "cell_type": "code",
   "execution_count": 2,
   "metadata": {},
   "outputs": [
    {
     "name": "stdout",
     "output_type": "stream",
     "text": [
      "[[0, 1, 3], [2]]\n"
     ]
    }
   ],
   "source": [
    "def find_index(res, target_index):\n",
    "    for index, sublist in enumerate(res):\n",
    "        if target_index in sublist:\n",
    "            # yes, it's present\n",
    "            return index\n",
    "\n",
    "    return None  # not present\n",
    "        \n",
    "def main():\n",
    "    data = [\n",
    " (\"username1\",\"phone_number1\", \"email1\"),\n",
    " (\"usernameX\",\"phone_number1\", \"emailX\"),\n",
    " (\"usernameZ\",\"phone_numberZ\", \"email1Z\"),\n",
    " (\"usernameY\",\"phone_numberY\", \"emailX\"),\n",
    " ]\n",
    "    res = []\n",
    "\n",
    "    for index, person_detail in enumerate(data):\n",
    "        # check if this `index` is already present in a sublist in `res`\n",
    "        # if the `index` is already present in a sublist in `res`, then we need to add to that sublist\n",
    "        # otherwise we will start a new sublist in `res`\n",
    "        index_to_add_to = None\n",
    "\n",
    "        if find_index(res, index) is None:\n",
    "            # does not exist\n",
    "            res.append([index])\n",
    "            index_to_add_to = len(res) - 1\n",
    "        else:\n",
    "            # exists\n",
    "            index_to_add_to = find_index(res, index)\n",
    "        \n",
    "        for c_index, c_person_detail in enumerate(data):\n",
    "            # inner loop to compare person details with the other loop\n",
    "            if c_index == index:\n",
    "                # same, ignore\n",
    "                continue\n",
    "            if person_detail[0] == c_person_detail[0] or person_detail[1] == c_person_detail[1] or person_detail[2] == c_person_detail[2]:\n",
    "                # something matches, so append\n",
    "                res[index_to_add_to].append(c_index)\n",
    "                res[index_to_add_to] = list(set(res[index_to_add_to]))  # make it unique\n",
    "\n",
    "    print(res)\n",
    "\n",
    "if __name__ == '__main__':\n",
    "    main()"
   ]
  }
 ],
 "metadata": {
  "kernelspec": {
   "display_name": "Python 3",
   "language": "python",
   "name": "python3"
  },
  "language_info": {
   "codemirror_mode": {
    "name": "ipython",
    "version": 3
   },
   "file_extension": ".py",
   "mimetype": "text/x-python",
   "name": "python",
   "nbconvert_exporter": "python",
   "pygments_lexer": "ipython3",
   "version": "3.7.6"
  }
 },
 "nbformat": 4,
 "nbformat_minor": 4
}
