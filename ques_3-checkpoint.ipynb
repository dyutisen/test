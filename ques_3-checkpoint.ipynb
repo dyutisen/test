{
 "cells": [
  {
   "cell_type": "code",
   "execution_count": 3,
   "metadata": {},
   "outputs": [],
   "source": [
    "data = [\n",
    " (\"username1\",\"phone_number1\", \"email1\"),\n",
    " (\"usernameX\",\"phone_number1\", \"emailX\"),\n",
    " (\"usernameZ\",\"phone_numberZ\", \"email1Z\"),\n",
    " (\"usernameY\",\"phone_numberY\", \"emailX\"),\n",
    " ]\n",
    "\n",
    "indices = [i for i, tupl in enumerate(data) if tupl[1] == \"phone_number1\" or tupl[2] == \"emailX\" ]"
   ]
  },
  {
   "cell_type": "code",
   "execution_count": 4,
   "metadata": {},
   "outputs": [
    {
     "data": {
      "text/plain": [
       "[0, 1, 3]"
      ]
     },
     "execution_count": 4,
     "metadata": {},
     "output_type": "execute_result"
    }
   ],
   "source": [
    "indices"
   ]
  },
  {
   "cell_type": "code",
   "execution_count": 12,
   "metadata": {},
   "outputs": [
    {
     "name": "stdout",
     "output_type": "stream",
     "text": [
      "[0, 1, 2, 3]\n"
     ]
    }
   ],
   "source": [
    "\n",
    "data = [\n",
    " (\"username1\",\"phone_number1\", \"email1\"),\n",
    " (\"usernameX\",\"phone_number1\", \"emailX\"),\n",
    " (\"usernameZ\",\"phone_numberZ\", \"email1Z\"),\n",
    " (\"usernameY\",\"phone_numberY\", \"emailX\"),\n",
    " ]\n",
    "# Prepare indexes\n",
    "by_name = {}\n",
    "by_phone = {}\n",
    "by_mail = {}\n",
    "for i, t in enumerate(data):\n",
    "    if t[0] not in by_name:\n",
    "        by_name[t[0]] = []\n",
    "        by_name[t[0]].append(i)\n",
    "        if t[1] not in by_phone:\n",
    "            by_phone[t[1]] = []\n",
    "            by_phone[t[1]].append(i)\n",
    "            if t[2] not in by_mail:\n",
    "                by_mail[t[2]] = []\n",
    "                by_mail[t[2]].append(i)\n",
    "\n",
    "# BFS to propagate group to connected companies\n",
    "groups = list(range(len(data)))\n",
    "for i in range(len(data)):\n",
    "    g = groups[i]\n",
    "    queue = [g]\n",
    "    while queue:\n",
    "        x = queue.pop(0)\n",
    "        groups[x] = g\n",
    "        t = data[x]\n",
    "        for y in by_name[t[0]]:\n",
    "            if g < groups[y]:\n",
    "                queue.append(y)\n",
    "                for y in by_phone[t[1]]:\n",
    "                    if g < groups[y]:\n",
    "                        queue.append(y)\n",
    "                        for y in by_mail[t[2]]:\n",
    "                            if g < groups[y]:\n",
    "                                queue.append(y)\n",
    "\n",
    "# Assemble result\n",
    "result = []\n",
    "current = None\n",
    "last = None\n",
    "for i, g in enumerate(groups):\n",
    "    if g != last:\n",
    "        if current:\n",
    "            result.append(current)\n",
    "            current = []\n",
    "            last = g\n",
    "            current.append(i)\n",
    "            if current:\n",
    "                result.append(current)\n",
    "                \n",
    "print(groups)"
   ]
  },
  {
   "cell_type": "code",
   "execution_count": 6,
   "metadata": {},
   "outputs": [
    {
     "name": "stdout",
     "output_type": "stream",
     "text": [
      "(('username1', 'phone_number1', 'email1'), ('usernameX', 'phone_number1', 'emailX'), ('usernameY', 'phone_numberY', 'emailX'), ('usernameZ', 'phone_numberZ', 'email1Z'))\n",
      "([0], [1], [3], [2])\n"
     ]
    }
   ],
   "source": []
  },
  {
   "cell_type": "code",
   "execution_count": null,
   "metadata": {},
   "outputs": [],
   "source": []
  }
 ],
 "metadata": {
  "kernelspec": {
   "display_name": "Python 3",
   "language": "python",
   "name": "python3"
  },
  "language_info": {
   "codemirror_mode": {
    "name": "ipython",
    "version": 3
   },
   "file_extension": ".py",
   "mimetype": "text/x-python",
   "name": "python",
   "nbconvert_exporter": "python",
   "pygments_lexer": "ipython3",
   "version": "3.7.6"
  }
 },
 "nbformat": 4,
 "nbformat_minor": 4
}
